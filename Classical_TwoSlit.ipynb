{
 "cells": [
  {
   "cell_type": "code",
   "execution_count": 47,
   "metadata": {
    "collapsed": false
   },
   "outputs": [],
   "source": [
    "import scipy.integrate as integrate\n",
    "import matplotlib.animation as animation\n",
    "%matplotlib inline"
   ]
  },
  {
   "cell_type": "code",
   "execution_count": 49,
   "metadata": {
    "collapsed": false
   },
   "outputs": [],
   "source": [
    "ve = 10.\n",
    "re = -1000 \n",
    "\n",
    "tf = (10 - re) /  ve\n",
    "t = np.linspace(0, tf, 1000)\n",
    "\n",
    "ke = .01\n",
    "k = .1\n",
    "d = 1.\n",
    "yp, ym = d/2., -d/2.\n",
    "\n",
    "# vector of initial conditions is (re, 0, yp, ym, ve, 0, 0, 0, 0, 0, 0, 0)\n",
    "po = [re, 0, yp*1.1, ym*1.1, ve, 0, 0, 0, 0, 0, 0, 0]\n",
    "\n",
    "# vector of functions is (xe, ye, yu, yd, vxe, vye, vyu, vyd, axe, aye, ayu, ayd)\n",
    "\n",
    "def Fc(x1, y1, x2, y2):\n",
    "    r = np.sqrt((x1-x1)**2 + (y1-y2)**2)\n",
    "    return ke / r**2\n",
    "\n",
    "def f(p, t):\n",
    "    '''Returns derivative of vector (xe, ye, yu, yd, vxe, vye, vyu, vyd, axe, aye, ayu, ayd)\n",
    "    '''\n",
    "    xe, ye, yu, yd, vxe, vye, vyu, vyd, axe, aye, ayu, ayd = p\n",
    "    \n",
    "    def Sphi(z):\n",
    "        return np.sin(np.arctan( (z-ye)/xe ))\n",
    "    \n",
    "    def Cphi(z):\n",
    "        return np.cos(np.arctan( (z-ye)/xe ))\n",
    "        \n",
    "    daxedt = - Fc(xe, ye, 0, yu)*Sphi(yu) - Fc(xe, ye, 0, yd)*Sphi(yd)\n",
    "    dayedt = - Fc(xe, ye, 0, yu)*Cphi(yu) + Fc(xe, ye, 0, yd)*Cphi(yd)\n",
    "    \n",
    "    dayudt = -k*(yu - yp) + Fc(xe, ye, 0, yu)*Sphi(yu)\n",
    "    dayddt = -k*(yd - ym) + Fc(xe, ye, 0, yd)*Sphi(yd)\n",
    "    \n",
    "    dpdt = [vxe, vye, vyu, vyd, axe, aye, ayu, ayd, daxedt, dayedt, dayudt, dayddt]\n",
    "\n",
    "    return dpdt\n"
   ]
  },
  {
   "cell_type": "code",
   "execution_count": 50,
   "metadata": {
    "collapsed": false
   },
   "outputs": [],
   "source": [
    "sol = integrate.odeint(f, po, t, full_output=1)"
   ]
  },
  {
   "cell_type": "code",
   "execution_count": 58,
   "metadata": {
    "collapsed": false
   },
   "outputs": [
    {
     "data": {
      "image/png": "[encoded data removed]",
      "text/plain": [
       "<matplotlib.figure.Figure at 0x7ff802d20610>"
      ]
     },
     "metadata": {},
     "output_type": "display_data"
    }
   ],
   "source": [
    "fig1, ax = plt.subplots(1,1, figsize=(12, 8))\n",
    "ax.set_ylim((d, -d))\n",
    "\n",
    "ims = []\n",
    "\n",
    "for s in range(1000):\n",
    "    x = sol[0][s, 0], 0, 0\n",
    "    y = sol[0][s, 1:4]\n",
    "    ims.append((plt.scatter(x, y, color='b', s=10), ))\n"
   ]
  },
  {
   "cell_type": "code",
   "execution_count": 60,
   "metadata": {
    "collapsed": true
   },
   "outputs": [],
   "source": [
    "im_ani = animation.ArtistAnimation(fig1, ims, interval=1, repeat_delay=3000)"
   ]
  }
 ],
 "metadata": {
  "kernelspec": {
   "display_name": "Python 2",
   "language": "python",
   "name": "python2"
  },
  "language_info": {
   "codemirror_mode": {
    "name": "ipython",
    "version": 2
   },
   "file_extension": ".py",
   "mimetype": "text/x-python",
   "name": "python",
   "nbconvert_exporter": "python",
   "pygments_lexer": "ipython2",
   "version": "2.7.13"
  }
 },
 "nbformat": 4,
 "nbformat_minor": 2
}
