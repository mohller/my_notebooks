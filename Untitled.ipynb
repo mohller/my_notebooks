{
 "cells": [
  {
   "cell_type": "code",
   "execution_count": 9,
   "metadata": {
    "collapsed": false
   },
   "outputs": [
    {
     "name": "stdout",
     "output_type": "stream",
     "text": [
      "no\n"
     ]
    },
    {
     "data": {
      "text/plain": [
       "0.46882220446333622"
      ]
     },
     "execution_count": 9,
     "metadata": {},
     "output_type": "execute_result"
    }
   ],
   "source": [
    "def E(d, s_n, a_nk, r_nk):\n",
    "    \n",
    "    x_nk, y_nk = r_nk    \n",
    "    phi_nk = np.arctan( y_nk / x_nk )\n",
    "    \n",
    "    o = phi_nk + a_nk\n",
    "    \n",
    "    x1 = x_nk + s_n/2. * np.sin(o)\n",
    "    x2 = x_nk + s_n/2. * np.sqrt(3) * np.sin(o)\n",
    "    x3 = x_nk - s_n/2. * np.sin(o)\n",
    "    \n",
    "    y1 = y_nk + s_n/2. * np.cos(o)\n",
    "    y2 = y_nk + s_n/2. * np.sqrt(3) * np.cos(o)\n",
    "    y3 = y_nk - s_n/2. * np.cos(o)\n",
    "    \n",
    "    points = [(y1, x1), (y2, x2), (y3, x3)]\n",
    "    points.sort()\n",
    "    pb, pm, pt = points\n",
    "    \n",
    "    if pm[1] < pt[1]:\n",
    "        print 'yes'\n",
    "    else:\n",
    "        print 'no'    \n",
    "    \n",
    "    def I(x, y):\n",
    "        tx = d/(x_nk+x)\n",
    "        ty = d/(y_nk+y)\n",
    "        \n",
    "        return np.arctan( 1/np.sqrt(1 + tx**2 + ty**2) )\n",
    "    \n",
    "    \n",
    "    return I( x_nk + s_n/2 * np.sin(phi_nk+a_nk), y_nk + s_n*np.sqrt(3)/2 * np.cos(phi_nk+a_nk))\n",
    "\n",
    "E(3, 1, np.pi/4, (1, 2))"
   ]
  }
 ],
 "metadata": {
  "kernelspec": {
   "display_name": "Python 2",
   "language": "python",
   "name": "python2"
  },
  "language_info": {
   "codemirror_mode": {
    "name": "ipython",
    "version": 2
   },
   "file_extension": ".py",
   "mimetype": "text/x-python",
   "name": "python",
   "nbconvert_exporter": "python",
   "pygments_lexer": "ipython2",
   "version": "2.7.12"
  }
 },
 "nbformat": 4,
 "nbformat_minor": 2
}
