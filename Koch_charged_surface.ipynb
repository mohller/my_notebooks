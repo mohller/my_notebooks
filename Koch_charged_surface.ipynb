{
 "cells": [
  {
   "cell_type": "code",
   "execution_count": 17,
   "metadata": {
    "collapsed": true
   },
   "outputs": [],
   "source": [
    "import numpy as np"
   ]
  },
  {
   "cell_type": "code",
   "execution_count": 9,
   "metadata": {
    "collapsed": false
   },
   "outputs": [
    {
     "name": "stdout",
     "output_type": "stream",
     "text": [
      "no\n"
     ]
    },
    {
     "data": {
      "text/plain": [
       "0.46882220446333622"
      ]
     },
     "execution_count": 9,
     "metadata": {},
     "output_type": "execute_result"
    }
   ],
   "source": [
    "def E(d, s_n, a_nk, r_nk):\n",
    "    \"\"\"Provides the electric field contribution of the k-th triangle\n",
    "    in the nth iteration of the Koch surface\n",
    "    \n",
    "    Arguments:\n",
    "       d     -- distance from the plain of the surface and \n",
    "                 point on which the field is calculated\n",
    "       s_n   -- area of the triangles in the n-th iteration \n",
    "       a_nk  -- angle shift for the kth triangle in the nth\n",
    "                 iteration. angle btw. the base of this \n",
    "                 triangle and the previous one.\n",
    "       r_nk  -- a list (x, y) with the x and y coordinates\n",
    "                 of the triangle's bottom center\n",
    "    \"\"\"\n",
    "    \n",
    "    x_nk, y_nk = r_nk\n",
    "    phi_nk = np.arctan( y_nk / x_nk )\n",
    "    \n",
    "    o = phi_nk + a_nk\n",
    "    \n",
    "    x1 = x_nk + s_n/2. * np.sin(o)\n",
    "    x2 = x_nk + s_n/2. * np.sqrt(3) * np.sin(o)\n",
    "    x3 = x_nk - s_n/2. * np.sin(o)\n",
    "    \n",
    "    y1 = y_nk + s_n/2. * np.cos(o)\n",
    "    y2 = y_nk + s_n/2. * np.sqrt(3) * np.cos(o)\n",
    "    y3 = y_nk - s_n/2. * np.cos(o)\n",
    "    \n",
    "    points = [(y1, x1), (y2, x2), (y3, x3)]\n",
    "    points.sort()\n",
    "    pb, pm, pt = points\n",
    "    \n",
    "    if pm[1] < pt[1]:\n",
    "        print 'yes'\n",
    "    else:\n",
    "        print 'no'    \n",
    "    \n",
    "    def I(x, y):\n",
    "        tx = d/(x_nk+x)\n",
    "        ty = d/(y_nk+y)\n",
    "        \n",
    "        return np.arctan( 1/np.sqrt(1 + tx**2 + ty**2) )\n",
    " \n",
    "    return I( x_nk + s_n/2 * np.sin(phi_nk+a_nk), y_nk + s_n*np.sqrt(3)/2 * np.cos(phi_nk+a_nk))\n",
    "\n",
    "E(3, 1, np.pi/4, (1, 2))"
   ]
  },
  {
   "cell_type": "code",
   "execution_count": 15,
   "metadata": {
    "collapsed": false
   },
   "outputs": [
    {
     "name": "stdout",
     "output_type": "stream",
     "text": [
      "Nn:       3,   Sn: 1.11e-01\n",
      "Nn:      12,   Sn: 1.23e-02\n",
      "Nn:      48,   Sn: 1.37e-03\n",
      "Nn:     192,   Sn: 1.52e-04\n",
      "Nn:     768,   Sn: 1.69e-05\n",
      "Nn:    3072,   Sn: 1.88e-06\n",
      "Nn:   12288,   Sn: 2.09e-07\n",
      "Nn:   49152,   Sn: 2.32e-08\n",
      "Nn:  196608,   Sn: 2.58e-09\n",
      "Nn:  786432,   Sn: 2.87e-10\n"
     ]
    }
   ],
   "source": [
    "def sumEn(p=10, So=1.):\n",
    "    \"\"\"Summes up the electric field contributions of all\n",
    "    triangles of the nth iteration of the Koch surface\n",
    "    \n",
    "    Arguments:\n",
    "        p    -- Iteration level, \n",
    "       So    -- Area of the fist triangle\n",
    "    \"\"\"\n",
    "    \n",
    "    for n in range(1, p+1):\n",
    "        Nn = 3*4**(n-1)\n",
    "        Sn = So / 9**n\n",
    "        print 'Nn: {:7.0f},   Sn: {:3.2e}'.format(Nn, Sn)\n",
    "        \n",
    "#         for k in range(Nn):\n",
    "#             pass\n",
    "            \n",
    "\n",
    "sumEn()"
   ]
  },
  {
   "cell_type": "markdown",
   "metadata": {},
   "source": [
    "The field at the same distance d=1 if the surface is a circle with the same charge density and radius Ro enough to circumscribe the Koch surface:"
   ]
  },
  {
   "cell_type": "code",
   "execution_count": 23,
   "metadata": {
    "collapsed": false
   },
   "outputs": [
    {
     "name": "stdout",
     "output_type": "stream",
     "text": [
      "0.146446609407 which is 58.6% of the point charge case\n"
     ]
    }
   ],
   "source": [
    "def Ec(d=1., sigma=1., Ro=1.):\n",
    "    return sigma / 2 * (1 - 1 / np.sqrt(1 + (Ro / d)**2))\n",
    "\n",
    "def Epoint(d=1., sigma=1., Ro=1.):\n",
    "    return sigma * Ro**2 /(4 * d**2)\n",
    "\n",
    "print Ec(), 'which is {:3.1f}% of the point charge case'.format(Ec() / Epoint() * 100)"
   ]
  }
 ],
 "metadata": {
  "kernelspec": {
   "display_name": "Python 2",
   "language": "python",
   "name": "python2"
  },
  "language_info": {
   "codemirror_mode": {
    "name": "ipython",
    "version": 2
   },
   "file_extension": ".py",
   "mimetype": "text/x-python",
   "name": "python",
   "nbconvert_exporter": "python",
   "pygments_lexer": "ipython2",
   "version": "2.7.13"
  }
 },
 "nbformat": 4,
 "nbformat_minor": 2
}
